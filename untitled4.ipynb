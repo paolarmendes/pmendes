{
  "nbformat": 4,
  "nbformat_minor": 0,
  "metadata": {
    "colab": {
      "provenance": []
    },
    "kernelspec": {
      "name": "python3",
      "display_name": "Python 3"
    },
    "language_info": {
      "name": "python"
    }
  },
  "cells": [
    {
      "cell_type": "code",
      "execution_count": null,
      "metadata": {
        "colab": {
          "base_uri": "https://localhost:8080/"
        },
        "id": "GEKGaUf6IXVN",
        "outputId": "0483517f-0d68-4da8-8be3-43559bf98edf"
      },
      "outputs": [
        {
          "output_type": "stream",
          "name": "stdout",
          "text": [
            "Descrição: overcast clouds\n",
            "temperatura em Kelvin: 302.72\n",
            "temperatura em Celsius: 29.720000000000027\n"
          ]
        }
      ],
      "source": [
        "import requests\n",
        "x = requests.get('https://api.openweathermap.org/data/2.5/weather?q=Pernambuco&appid=e06702accc5534f93175f4585a19b414&pt_br')\n",
        "a= x.json()\n",
        "print(\"Descrição:\",a['weather'][0]['description'])\n",
        "print (\"temperatura em Kelvin:\",a['main']['temp'])\n",
        "z = (302.72-273)\n",
        "print(\"temperatura em Celsius:\",z)"
      ]
    }
  ]
}